{
 "cells": [
  {
   "cell_type": "code",
   "execution_count": null,
   "id": "e3b8183a-c675-4d19-bbca-6693d8f1bb02",
   "metadata": {},
   "outputs": [],
   "source": [
    "import numpy as np\n",
    "import pandas as pd\n",
    "import scipy as sp\n",
    "import random\n",
    "import math\n",
    "import matplotlib.pyplot as plt\n",
    "from scipy.ndimage.filters import gaussian_filter\n",
    "from scipy.ndimage import distance_transform_bf\n",
    "import sys\n",
    "import os\n",
    "import glob\n",
    "import gudhi as gd # for installation of gudhi, see http://gudhi.gforge.inria.fr/"
   ]
  },
  {
   "cell_type": "code",
   "execution_count": null,
   "id": "30557186-8f52-473f-aa0f-0eed83680fae",
   "metadata": {},
   "outputs": [],
   "source": [
    "# convert list to array\n",
    "def pdarray(pd):\n",
    "    pd_array=np.zeros((len(pd),3))\n",
    "    for i in range(0,len(pd)):\n",
    "        pd_array[i,0]=np.asarray(pd[i][0])\n",
    "        pd_array[i,1]=np.asarray(pd[i][1][0])\n",
    "        pd_array[i,2]=np.asarray(pd[i][1][1])\n",
    "    return pd_array;"
   ]
  },
  {
   "cell_type": "code",
   "execution_count": null,
   "id": "75a1608d-bb39-4298-9d02-12b456aae91a",
   "metadata": {},
   "outputs": [],
   "source": [
    "# Download dataset from https://github.com/lorinanthony/SECT and save in the subfolder /SECT/\n",
    "dirNameSECT = os.getcwd()+\"/SECT/\" # or change the SECT directory as necessary\n",
    "# ID for patients\n",
    "patName = os.listdir(dirNameSECT+\"Data/MITKSegmentations\")\n",
    "# folder for patients\n",
    "dirName = glob.glob(dirNameSECT+\"Data/MITKSegmentations/*/\")\n",
    "\n",
    "# Directory to save results\n",
    "dirNameSEDT = os.getcwd()+\"/sedt2/\"\n",
    "os.makedirs(dirNameSEDT,exist_ok=True)\n",
    "dirNamePD = os.getcwd()+\"/persistencediagram/\"\n",
    "os.makedirs(dirNamePD,exist_ok=True)"
   ]
  },
  {
   "cell_type": "code",
   "execution_count": null,
   "id": "39758aab-d577-480f-913a-56842c2829f4",
   "metadata": {},
   "outputs": [],
   "source": [
    "# SEDT-2\n",
    "for i in range(0,len(dirName)):\n",
    "    subfolder = 'baseline/Segmentations/enh/*.png'\n",
    "    subdirName = dirName[i] + subfolder\n",
    "    fileName = glob.glob(subdirName)\n",
    "    for j in range(0,len(fileName)):\n",
    "        idf = plt.imread(fileName[j])\n",
    "        rate=np.shape(idf)[0]/256\n",
    "        if (np.sum(idf)>=100):\n",
    "            distimgn=distance_transform_bf(idf,metric='euclidean')/rate\n",
    "            distimgp=distance_transform_bf(1-idf,metric='euclidean')/rate\n",
    "            distimgp = distimgp.astype(np.float64)\n",
    "            distimgn = distimgn.astype(np.float64)   \n",
    "            distimg=distimgp-distimgn\n",
    "            per_disimg=np.ravel(distimg)\n",
    "        \n",
    "            # save as np array\n",
    "            per_disimg_fin=np.array(per_disimg.flatten())\n",
    "            info=np.array([2,idf.shape[1],idf.shape[0]])\n",
    "        \n",
    "            base=os.path.basename(fileName[j])\n",
    "            filename = os.path.splitext(base)[0]\n",
    "        \n",
    "            # write txt file\n",
    "            f= open(dirNameSEDT + patName[i] + \"_\" + filename+ \".txt\",\"w+\")\n",
    "            for ll in range(0,len(info)):\n",
    "                f.write(\"%d\\n\" % (info[ll]))\n",
    "            for mm in range(0,len(per_disimg_fin)):  \n",
    "                f.write(\"%f\\n\" % (per_disimg_fin[mm]))\n",
    "            f.close()  \n",
    "\n",
    "# SEDT-2 file paths\n",
    "dirPath_sedt = os.path.join(dirNameSEDT,\"*.txt\")\n",
    "filePath_sedt = glob.glob(dirPath_sedt)"
   ]
  },
  {
   "cell_type": "code",
   "execution_count": null,
   "id": "c31edc75-1765-4481-8974-d4d65d3355f7",
   "metadata": {},
   "outputs": [],
   "source": [
    "# compute persistent homology using gudhi\n",
    "for i in range(0,len(filePath_sedt)):\n",
    "    # compute PH\n",
    "    md_cubical_complex = gd.CubicalComplex(perseus_file=filePath_sedt[i])\n",
    "    # result\n",
    "    md_cc_diag=md_cubical_complex.persistence()\n",
    "    \n",
    "    pd_array=pdarray(md_cc_diag)\n",
    "    \n",
    "    # filename\n",
    "    base=os.path.basename(filePath_sedt[i])\n",
    "    filename = os.path.splitext(base)[0]\n",
    "    \n",
    "    # write txt file\n",
    "    f= dirNamePD + filename + \"_pd.txt\"\n",
    "    np.savetxt(f,pd_array,fmt='%1.6f')    \n",
    "    \n",
    "     # delete distance txt file\n",
    "    os.remove(filePath_sedt[i])"
   ]
  }
 ],
 "metadata": {
  "kernelspec": {
   "display_name": "Python 3 (ipykernel)",
   "language": "python",
   "name": "python3"
  },
  "language_info": {
   "codemirror_mode": {
    "name": "ipython",
    "version": 3
   },
   "file_extension": ".py",
   "mimetype": "text/x-python",
   "name": "python",
   "nbconvert_exporter": "python",
   "pygments_lexer": "ipython3",
   "version": "3.7.4"
  }
 },
 "nbformat": 4,
 "nbformat_minor": 5
}

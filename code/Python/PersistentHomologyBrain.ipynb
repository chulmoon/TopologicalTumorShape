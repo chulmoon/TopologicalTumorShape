{
 "cells": [
  {
   "cell_type": "code",
   "execution_count": 3,
   "metadata": {},
   "outputs": [],
   "source": [
    "import numpy as np\n",
    "import pandas as pd\n",
    "import scipy as sp\n",
    "import random\n",
    "import math\n",
    "import matplotlib.pyplot as plt\n",
    "from scipy.ndimage.filters import gaussian_filter\n",
    "from scipy.ndimage import distance_transform_bf\n",
    "\n",
    "import sys\n",
    "import os\n",
    "import time\n",
    "import pickle\n",
    "import re\n",
    "import cv2\n",
    "import pyreadr\n",
    "import glob\n",
    "import gudhi as gd # for installation of gudhi, see http://gudhi.gforge.inria.fr/"
   ]
  },
  {
   "cell_type": "code",
   "execution_count": null,
   "metadata": {},
   "outputs": [],
   "source": [
    "# convert list to array\n",
    "def pdarray(pd):\n",
    "    pd_array=np.zeros((len(pd),3))\n",
    "    for i in range(0,len(pd)):\n",
    "        pd_array[i,0]=np.asarray(pd[i][0])\n",
    "        pd_array[i,1]=np.asarray(pd[i][1][0])\n",
    "        pd_array[i,2]=np.asarray(pd[i][1][1])\n",
    "    return pd_array;\n"
   ]
  },
  {
   "cell_type": "code",
   "execution_count": null,
   "metadata": {},
   "outputs": [],
   "source": [
    "# Download dataset from https://github.com/lorinanthony/SECT\n",
    "dirNameSECT = \"./\" # change the SECT directory as necessary\n",
    "# ID for patients\n",
    "patName = os.listdir(dirNameSECT+\"Data/MITKSegmentations\")\n",
    "patName = patName[1:]\n",
    "# folder for patients\n",
    "dirName = glob.glob(dirNameSECT+\"Data/MITKSegmentations/*/\")\n",
    "\n",
    "# Directory to save results\n",
    "dirNameRes = \"./\" # change the directory as necessary\n"
   ]
  },
  {
   "cell_type": "code",
   "execution_count": 4,
   "metadata": {},
   "outputs": [],
   "source": [
    "# compute distnace\n",
    "for i in range(0,len(dirName)):\n",
    "    subfolder = 'baseline/Segmentations/enh/*.png'\n",
    "    subdirName = dirName[i] + subfolder\n",
    "    fileName = glob.glob(subdirName)\n",
    "    for j in range(0,len(fileName)):\n",
    "        idf = plt.imread(fileName[j])\n",
    "        rate=np.shape(idf)[0]/256\n",
    "        if (np.sum(idf)>10):\n",
    "            distimgn=distance_transform_bf(idf,metric='euclidean')/rate\n",
    "            distimgp=distance_transform_bf(1-idf,metric='euclidean')/rate\n",
    "            distimgp = distimgp.astype(np.float64)\n",
    "            distimgn = distimgn.astype(np.float64)   \n",
    "            distimg=distimgp-distimgn\n",
    "            per_disimg=np.ravel(distimg)\n",
    "        \n",
    "            # save as np array\n",
    "            per_disimg_fin=np.array(per_disimg.flatten())\n",
    "            info=np.array([2,idf.shape[1],idf.shape[0]])\n",
    "        \n",
    "            base=os.path.basename(fileName[j])\n",
    "            filename = os.path.splitext(base)[0]\n",
    "        \n",
    "            # write txt file\n",
    "            fileName_sedt = os.path.join(dirName+\"data/brain/SEDT-2/\")\n",
    "            f= open(fileName_sedt + patName[i] + \"_\" + filename+ \".txt\",\"w+\")\n",
    "            for ll in range(0,len(info)):\n",
    "                f.write(\"%d\\n\" % (info[ll]))\n",
    "            for mm in range(0,len(per_disimg_fin)):  \n",
    "                f.write(\"%f\\n\" % (per_disimg_fin[mm]))\n",
    "            f.close()  \n"
   ]
  },
  {
   "cell_type": "code",
   "execution_count": 5,
   "metadata": {},
   "outputs": [],
   "source": [
    "# SEDT-2 file paths\n",
    "dirPath_sedt = os.path.join(dirNameRes,\"data/brain/SEDT-2/*.txt\")\n",
    "filePath_sedt = glob.glob(dirPath)\n",
    "\n",
    "# compute persistent homology using gudhi\n",
    "for i in range(0,len(filePath_sedt)):\n",
    "    # compute PH\n",
    "    md_cubical_complex = gd.CubicalComplex(perseus_file=filePath_sedt[i])\n",
    "    # result\n",
    "    md_cc_diag=md_cubical_complex.persistence()\n",
    "    \n",
    "    pd_array=pdarray(md_cc_diag)\n",
    "    \n",
    "    # filename\n",
    "    base=os.path.basename(filePath_sedt[i])\n",
    "    filename = os.path.splitext(base)[0]\n",
    "    \n",
    "    # write txt file\n",
    "    fileName_pd = os.path.join(dirNameRes+\"data/brain/PersistenceDiagram/\")\n",
    "    f= fileName_pd + filename+ \"_pd.txt\"\n",
    "    np.savetxt(f,pd_array,fmt='%1.6f')\n",
    "    "
   ]
  }
 ],
 "metadata": {
  "kernelspec": {
   "display_name": "Python 3",
   "language": "python",
   "name": "python3"
  },
  "language_info": {
   "codemirror_mode": {
    "name": "ipython",
    "version": 3
   },
   "file_extension": ".py",
   "mimetype": "text/x-python",
   "name": "python",
   "nbconvert_exporter": "python",
   "pygments_lexer": "ipython3",
   "version": "3.7.4"
  }
 },
 "nbformat": 4,
 "nbformat_minor": 2
}

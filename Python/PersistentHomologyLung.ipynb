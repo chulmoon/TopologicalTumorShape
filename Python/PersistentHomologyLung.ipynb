{
 "cells": [
  {
   "cell_type": "code",
   "execution_count": 10,
   "metadata": {},
   "outputs": [],
   "source": [
    "import numpy as np\n",
    "import pandas as pd\n",
    "import scipy as sp\n",
    "import math\n",
    "from scipy.ndimage.filters import gaussian_filter\n",
    "from scipy.ndimage import distance_transform_bf\n",
    "import sys\n",
    "import os\n",
    "import pyreadr\n",
    "import glob\n",
    "import gudhi as gd # for installation of gudhi, see http://gudhi.gforge.inria.fr/"
   ]
  },
  {
   "cell_type": "code",
   "execution_count": 11,
   "metadata": {},
   "outputs": [],
   "source": [
    "# convert list to array\n",
    "def pdarray(pd):\n",
    "    pd_array=np.zeros((len(pd),3))\n",
    "    for i in range(0,len(pd)):\n",
    "        pd_array[i,0]=np.asarray(pd[i][0])\n",
    "        pd_array[i,1]=np.asarray(pd[i][1][0])\n",
    "        pd_array[i,2]=np.asarray(pd[i][1][1])\n",
    "    return pd_array;\n"
   ]
  },
  {
   "cell_type": "code",
   "execution_count": 12,
   "metadata": {},
   "outputs": [],
   "source": [
    "# base file directory\n",
    "dirName = \"./\" # change as necessary\n",
    "# read lung data image files\n",
    "dirPath = os.path.join(dirName, \"data/lung/image/*.Rdata\")\n",
    "filePath = glob.glob(dirPath)\n"
   ]
  },
  {
   "cell_type": "code",
   "execution_count": 19,
   "metadata": {},
   "outputs": [],
   "source": [
    "for i in range(0,len(filePath)):   \n",
    "    imgdat = pyreadr.read_r(filePath[i])\n",
    "    idf = imgdat[\"dataset\"]\n",
    "    \n",
    "    # replace normal regions to 0\n",
    "    # tumor regions to 1 \n",
    "    # empty regions to  2\n",
    "    \n",
    "    dfnormal=idf.copy()\n",
    "    dftumor=idf.copy()\n",
    "    \n",
    "    matdf = idf.values\n",
    "    \n",
    "    # for normal, normal -1, otherwise: 0\n",
    "    matnormal = dfnormal.values\n",
    "    # first make tumor or empty regions 1 and plug in 1-matnormal\n",
    "    ## tumor or empty regions\n",
    "    matnormal[matnormal>1]=1\n",
    "\n",
    "    # for tumor, tumor: 1, otherwise:0\n",
    "    mattumor = dftumor.values\n",
    "    ## make empty regions 0 (only tumors are 1)\n",
    "    mattumor[mattumor>1]=0\n",
    "    \n",
    "    # compute distance\n",
    "    ## negative: tumor\n",
    "    distimgn=distance_transform_bf(mattumor,metric='euclidean')\n",
    "    ## positive: normal\n",
    "    distimgp=distance_transform_bf(1-matnormal,metric='euclidean')\n",
    "    \n",
    "    distimgp = distimgp.astype(np.float64)\n",
    "    distimgn = distimgn.astype(np.float64)\n",
    "    \n",
    "    ## aggregated distance\n",
    "    distimg=distimgp-distimgn\n",
    "    per_disimg=np.ravel(distimg)\n",
    "    \n",
    "    # replace empty cells with inf\n",
    "    per_matdf=np.ravel(matdf)\n",
    "    per_disimg[per_matdf>1]=np.inf\n",
    "    \n",
    "    # filename\n",
    "    base=os.path.basename(filePath[i])\n",
    "    filename = os.path.splitext(base)[0]\n",
    "    \n",
    "    # save as np array\n",
    "    per_disimg_fin=np.array(per_disimg.flatten())\n",
    "    info=np.array([2,idf.shape[1],idf.shape[0]])\n",
    "\n",
    "    # write txt file for persistent homology computation\n",
    "    ## \n",
    "    fileName_sedt = os.path.join(dirName, \"data/lung/SEDT-3/\")\n",
    "    f= open(fileName_sedt + filename + \".txt\",\"w+\")\n",
    "    for ll in range(0,len(info)):\n",
    "        f.write(\"%d\\n\" % (info[ll]))\n",
    "    for mm in range(0,len(per_disimg_fin)):  \n",
    "        f.write(\"%f\\n\" % (per_disimg_fin[mm]))\n",
    "    f.close()"
   ]
  },
  {
   "cell_type": "code",
   "execution_count": 8,
   "metadata": {},
   "outputs": [],
   "source": [
    "# SEDT-3 file paths\n",
    "dirPath_sedt = os.path.join(dirName, \"data/lung/SEDT-3/*.txt'\n",
    "filePath_sedt = glob.glob(dirPath_sedt)\n",
    "\n",
    "# compute persistent homology using gudhi\n",
    "for i in range(0,len(filePath_sedt)):\n",
    "    # compute PH\n",
    "    md_cubical_complex = gd.CubicalComplex(perseus_file=filePath_sedt[i])\n",
    "    # result\n",
    "    md_cc_diag=md_cubical_complex.persistence()\n",
    "    \n",
    "    pd_array=pdarray(md_cc_diag)\n",
    "    \n",
    "    # filename\n",
    "    base=os.path.basename(filePath_sedt[i])\n",
    "    filename = os.path.splitext(base)[0]\n",
    "    \n",
    "    # write txt file\n",
    "    fileName_pd = os.path.join(dirName, \"data/lung/PersistenceDiagram/\")\n",
    "    f= fileName_pd + filename+ \"_pd.txt\"\n",
    "    np.savetxt(f,pd_array,fmt='%1.6f')\n",
    "    "
   ]
  }
 ],
 "metadata": {
  "kernelspec": {
   "display_name": "Python 3",
   "language": "python",
   "name": "python3"
  },
  "language_info": {
   "codemirror_mode": {
    "name": "ipython",
    "version": 3
   },
   "file_extension": ".py",
   "mimetype": "text/x-python",
   "name": "python",
   "nbconvert_exporter": "python",
   "pygments_lexer": "ipython3",
   "version": "3.7.4"
  }
 },
 "nbformat": 4,
 "nbformat_minor": 2
}
